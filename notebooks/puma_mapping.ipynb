{
 "cells": [
  {
   "cell_type": "code",
   "execution_count": 1,
   "metadata": {},
   "outputs": [],
   "source": [
    "import pandas as pd\n",
    "import geopandas as gpd\n",
    "from geopandas.tools import sjoin\n",
    "import pathlib\n",
    "import os\n",
    "from pathlib import Path\n",
    "import numpy as np\n",
    "\n",
    "# Matplotlib\n",
    "import matplotlib.pyplot as plt\n"
   ]
  },
  {
   "cell_type": "code",
   "execution_count": 2,
   "metadata": {},
   "outputs": [],
   "source": [
    "def clean_column_names(dataframe):\n",
    "    \"\"\"\n",
    "    Function to clean column names of dataframe.\n",
    "    \"\"\"\n",
    "    dataframe.columns = [x.lower().replace(' ', '_') for x in dataframe.columns]\n",
    "    return dataframe"
   ]
  },
  {
   "cell_type": "code",
   "execution_count": 3,
   "metadata": {},
   "outputs": [],
   "source": [
    "block_shapefile_path = Path(r\"../data/raw/lracdraft-legislative/lracfinalrecc-legislative.shp\")"
   ]
  },
  {
   "cell_type": "code",
   "execution_count": 4,
   "metadata": {},
   "outputs": [],
   "source": [
    "\n",
    "block = gpd.read_file(\n",
    "    os.path.join(\n",
    "        block_shapefile_path\n",
    "    ),\n",
    "    encoding=\"utf-8\", \n",
    ")\n",
    "\n"
   ]
  },
  {
   "cell_type": "code",
   "execution_count": 5,
   "metadata": {},
   "outputs": [
    {
     "data": {
      "text/html": [
       "<div>\n",
       "<style scoped>\n",
       "    .dataframe tbody tr th:only-of-type {\n",
       "        vertical-align: middle;\n",
       "    }\n",
       "\n",
       "    .dataframe tbody tr th {\n",
       "        vertical-align: top;\n",
       "    }\n",
       "\n",
       "    .dataframe thead th {\n",
       "        text-align: right;\n",
       "    }\n",
       "</style>\n",
       "<table border=\"1\" class=\"dataframe\">\n",
       "  <thead>\n",
       "    <tr style=\"text-align: right;\">\n",
       "      <th></th>\n",
       "      <th>ID</th>\n",
       "      <th>AREA</th>\n",
       "      <th>COLORING</th>\n",
       "      <th>BLOCK</th>\n",
       "      <th>BLOCKGROUP</th>\n",
       "      <th>TRACT</th>\n",
       "      <th>COUNTY</th>\n",
       "      <th>STATE</th>\n",
       "      <th>BLOCK2010</th>\n",
       "      <th>MCD</th>\n",
       "      <th>...</th>\n",
       "      <th>F18_INDHW1</th>\n",
       "      <th>F18_ASNHW1</th>\n",
       "      <th>F18_WHTBL5</th>\n",
       "      <th>F18_WHTBL6</th>\n",
       "      <th>F18_WHTBL7</th>\n",
       "      <th>F18_WHTBL8</th>\n",
       "      <th>F18_WHTBL9</th>\n",
       "      <th>F18_WHTB10</th>\n",
       "      <th>F18_WHTIN4</th>\n",
       "      <th>geometry</th>\n",
       "    </tr>\n",
       "  </thead>\n",
       "  <tbody>\n",
       "    <tr>\n",
       "      <th>0</th>\n",
       "      <td>16775336</td>\n",
       "      <td>0.281298</td>\n",
       "      <td>2</td>\n",
       "      <td>240479514002073</td>\n",
       "      <td>240479514002</td>\n",
       "      <td>24047951400</td>\n",
       "      <td>24047</td>\n",
       "      <td>24</td>\n",
       "      <td>None</td>\n",
       "      <td>2404790368</td>\n",
       "      <td>...</td>\n",
       "      <td>0</td>\n",
       "      <td>0</td>\n",
       "      <td>0</td>\n",
       "      <td>0</td>\n",
       "      <td>0</td>\n",
       "      <td>0</td>\n",
       "      <td>0</td>\n",
       "      <td>0</td>\n",
       "      <td>0</td>\n",
       "      <td>POLYGON ((-75.48825 38.12509, -75.48752 38.125...</td>\n",
       "    </tr>\n",
       "    <tr>\n",
       "      <th>1</th>\n",
       "      <td>16775366</td>\n",
       "      <td>0.703681</td>\n",
       "      <td>0</td>\n",
       "      <td>240479514001005</td>\n",
       "      <td>240479514001</td>\n",
       "      <td>24047951400</td>\n",
       "      <td>24047</td>\n",
       "      <td>24</td>\n",
       "      <td>None</td>\n",
       "      <td>2404790184</td>\n",
       "      <td>...</td>\n",
       "      <td>0</td>\n",
       "      <td>0</td>\n",
       "      <td>0</td>\n",
       "      <td>0</td>\n",
       "      <td>0</td>\n",
       "      <td>0</td>\n",
       "      <td>0</td>\n",
       "      <td>0</td>\n",
       "      <td>0</td>\n",
       "      <td>POLYGON ((-75.48938 38.11031, -75.48955 38.110...</td>\n",
       "    </tr>\n",
       "    <tr>\n",
       "      <th>2</th>\n",
       "      <td>16775405</td>\n",
       "      <td>0.138566</td>\n",
       "      <td>3</td>\n",
       "      <td>240479514001000</td>\n",
       "      <td>240479514001</td>\n",
       "      <td>24047951400</td>\n",
       "      <td>24047</td>\n",
       "      <td>24</td>\n",
       "      <td>None</td>\n",
       "      <td>2404790184</td>\n",
       "      <td>...</td>\n",
       "      <td>0</td>\n",
       "      <td>0</td>\n",
       "      <td>0</td>\n",
       "      <td>0</td>\n",
       "      <td>0</td>\n",
       "      <td>0</td>\n",
       "      <td>0</td>\n",
       "      <td>0</td>\n",
       "      <td>0</td>\n",
       "      <td>POLYGON ((-75.47732 38.12445, -75.47784 38.124...</td>\n",
       "    </tr>\n",
       "    <tr>\n",
       "      <th>3</th>\n",
       "      <td>16775428</td>\n",
       "      <td>4.915601</td>\n",
       "      <td>3</td>\n",
       "      <td>240479514002058</td>\n",
       "      <td>240479514002</td>\n",
       "      <td>24047951400</td>\n",
       "      <td>24047</td>\n",
       "      <td>24</td>\n",
       "      <td>None</td>\n",
       "      <td>2404790368</td>\n",
       "      <td>...</td>\n",
       "      <td>0</td>\n",
       "      <td>0</td>\n",
       "      <td>0</td>\n",
       "      <td>0</td>\n",
       "      <td>0</td>\n",
       "      <td>0</td>\n",
       "      <td>0</td>\n",
       "      <td>0</td>\n",
       "      <td>0</td>\n",
       "      <td>POLYGON ((-75.47419 38.14246, -75.47373 38.142...</td>\n",
       "    </tr>\n",
       "    <tr>\n",
       "      <th>4</th>\n",
       "      <td>16775483</td>\n",
       "      <td>1.110380</td>\n",
       "      <td>3</td>\n",
       "      <td>240479514001023</td>\n",
       "      <td>240479514001</td>\n",
       "      <td>24047951400</td>\n",
       "      <td>24047</td>\n",
       "      <td>24</td>\n",
       "      <td>None</td>\n",
       "      <td>2404790368</td>\n",
       "      <td>...</td>\n",
       "      <td>0</td>\n",
       "      <td>0</td>\n",
       "      <td>0</td>\n",
       "      <td>0</td>\n",
       "      <td>0</td>\n",
       "      <td>0</td>\n",
       "      <td>0</td>\n",
       "      <td>0</td>\n",
       "      <td>0</td>\n",
       "      <td>POLYGON ((-75.45173 38.06989, -75.45189 38.069...</td>\n",
       "    </tr>\n",
       "  </tbody>\n",
       "</table>\n",
       "<p>5 rows × 256 columns</p>\n",
       "</div>"
      ],
      "text/plain": [
       "         ID      AREA  COLORING            BLOCK    BLOCKGROUP        TRACT  \\\n",
       "0  16775336  0.281298         2  240479514002073  240479514002  24047951400   \n",
       "1  16775366  0.703681         0  240479514001005  240479514001  24047951400   \n",
       "2  16775405  0.138566         3  240479514001000  240479514001  24047951400   \n",
       "3  16775428  4.915601         3  240479514002058  240479514002  24047951400   \n",
       "4  16775483  1.110380         3  240479514001023  240479514001  24047951400   \n",
       "\n",
       "  COUNTY STATE BLOCK2010         MCD  ... F18_INDHW1 F18_ASNHW1 F18_WHTBL5  \\\n",
       "0  24047    24      None  2404790368  ...          0          0          0   \n",
       "1  24047    24      None  2404790184  ...          0          0          0   \n",
       "2  24047    24      None  2404790184  ...          0          0          0   \n",
       "3  24047    24      None  2404790368  ...          0          0          0   \n",
       "4  24047    24      None  2404790368  ...          0          0          0   \n",
       "\n",
       "  F18_WHTBL6 F18_WHTBL7 F18_WHTBL8 F18_WHTBL9 F18_WHTB10 F18_WHTIN4  \\\n",
       "0          0          0          0          0          0          0   \n",
       "1          0          0          0          0          0          0   \n",
       "2          0          0          0          0          0          0   \n",
       "3          0          0          0          0          0          0   \n",
       "4          0          0          0          0          0          0   \n",
       "\n",
       "                                            geometry  \n",
       "0  POLYGON ((-75.48825 38.12509, -75.48752 38.125...  \n",
       "1  POLYGON ((-75.48938 38.11031, -75.48955 38.110...  \n",
       "2  POLYGON ((-75.47732 38.12445, -75.47784 38.124...  \n",
       "3  POLYGON ((-75.47419 38.14246, -75.47373 38.142...  \n",
       "4  POLYGON ((-75.45173 38.06989, -75.45189 38.069...  \n",
       "\n",
       "[5 rows x 256 columns]"
      ]
     },
     "execution_count": 5,
     "metadata": {},
     "output_type": "execute_result"
    }
   ],
   "source": [
    "block.head()"
   ]
  },
  {
   "cell_type": "code",
   "execution_count": 14,
   "metadata": {},
   "outputs": [
    {
     "name": "stdout",
     "output_type": "stream",
     "text": [
      "<class 'geopandas.geodataframe.GeoDataFrame'>\n",
      "RangeIndex: 83827 entries, 0 to 83826\n",
      "Columns: 256 entries, ID to geometry\n",
      "dtypes: float64(1), geometry(1), int64(224), object(30)\n",
      "memory usage: 163.7+ MB\n"
     ]
    }
   ],
   "source": [
    "block.info()"
   ]
  },
  {
   "cell_type": "code",
   "execution_count": 17,
   "metadata": {},
   "outputs": [
    {
     "name": "stdout",
     "output_type": "stream",
     "text": [
      "<class 'pandas.core.frame.DataFrame'>\n",
      "RangeIndex: 83827 entries, 0 to 83826\n",
      "Data columns (total 20 columns):\n",
      " #   Column      Non-Null Count  Dtype  \n",
      "---  ------      --------------  -----  \n",
      " 0   ID          83827 non-null  int64  \n",
      " 1   AREA        83827 non-null  float64\n",
      " 2   COLORING    83827 non-null  int64  \n",
      " 3   BLOCK       83827 non-null  object \n",
      " 4   BLOCKGROUP  83827 non-null  object \n",
      " 5   TRACT       83827 non-null  object \n",
      " 6   COUNTY      83827 non-null  object \n",
      " 7   STATE       83827 non-null  object \n",
      " 8   BLOCK2010   54416 non-null  object \n",
      " 9   MCD         83827 non-null  object \n",
      " 10  SUBMCD      0 non-null      object \n",
      " 11  PLACE       60613 non-null  object \n",
      " 12  CONCITY     0 non-null      object \n",
      " 13  VTD         83827 non-null  object \n",
      " 14  CONGRESS    83827 non-null  object \n",
      " 15  LOWERSLD    83827 non-null  object \n",
      " 16  UPPERSLD    83827 non-null  object \n",
      " 17  COUNTYLD    0 non-null      object \n",
      " 18  CITYLD      0 non-null      object \n",
      " 19  INDIAN      0 non-null      object \n",
      "dtypes: float64(1), int64(2), object(17)\n",
      "memory usage: 12.8+ MB\n"
     ]
    }
   ],
   "source": [
    "# Reduce to only the first 30 columns\n",
    "block = block[block.columns[:30]]\n",
    "block.info()"
   ]
  },
  {
   "cell_type": "markdown",
   "metadata": {},
   "source": [
    "### That's a lot of columns"
   ]
  },
  {
   "cell_type": "code",
   "execution_count": null,
   "metadata": {},
   "outputs": [],
   "source": [
    "block"
   ]
  },
  {
   "cell_type": "code",
   "execution_count": 6,
   "metadata": {},
   "outputs": [
    {
     "data": {
      "text/html": [
       "<div>\n",
       "<style scoped>\n",
       "    .dataframe tbody tr th:only-of-type {\n",
       "        vertical-align: middle;\n",
       "    }\n",
       "\n",
       "    .dataframe tbody tr th {\n",
       "        vertical-align: top;\n",
       "    }\n",
       "\n",
       "    .dataframe thead th {\n",
       "        text-align: right;\n",
       "    }\n",
       "</style>\n",
       "<table border=\"1\" class=\"dataframe\">\n",
       "  <thead>\n",
       "    <tr style=\"text-align: right;\">\n",
       "      <th></th>\n",
       "      <th>GISMATCH</th>\n",
       "      <th>GISJOIN</th>\n",
       "      <th>GEOID</th>\n",
       "      <th>STATEFIP</th>\n",
       "      <th>State</th>\n",
       "      <th>PUMA</th>\n",
       "      <th>Name</th>\n",
       "      <th>geometry</th>\n",
       "    </tr>\n",
       "  </thead>\n",
       "  <tbody>\n",
       "    <tr>\n",
       "      <th>0</th>\n",
       "      <td>600105</td>\n",
       "      <td>G06000105</td>\n",
       "      <td>0600105</td>\n",
       "      <td>06</td>\n",
       "      <td>California</td>\n",
       "      <td>00105</td>\n",
       "      <td>Alameda County (West)--San Leandro, Alameda &amp; ...</td>\n",
       "      <td>MULTIPOLYGON (((-2258646.530 342733.341, -2258...</td>\n",
       "    </tr>\n",
       "    <tr>\n",
       "      <th>1</th>\n",
       "      <td>600102</td>\n",
       "      <td>G06000102</td>\n",
       "      <td>0600102</td>\n",
       "      <td>06</td>\n",
       "      <td>California</td>\n",
       "      <td>00102</td>\n",
       "      <td>Alameda County (Northwest)--Oakland (Northwest...</td>\n",
       "      <td>POLYGON ((-2259099.372 353383.127, -2259101.40...</td>\n",
       "    </tr>\n",
       "    <tr>\n",
       "      <th>2</th>\n",
       "      <td>608502</td>\n",
       "      <td>G06008502</td>\n",
       "      <td>0608502</td>\n",
       "      <td>06</td>\n",
       "      <td>California</td>\n",
       "      <td>08502</td>\n",
       "      <td>Santa Clara County (Northwest)--Sunnyvale &amp; Sa...</td>\n",
       "      <td>POLYGON ((-2246220.131 304622.390, -2246216.04...</td>\n",
       "    </tr>\n",
       "    <tr>\n",
       "      <th>3</th>\n",
       "      <td>600108</td>\n",
       "      <td>G06000108</td>\n",
       "      <td>0600108</td>\n",
       "      <td>06</td>\n",
       "      <td>California</td>\n",
       "      <td>00108</td>\n",
       "      <td>Alameda County (Southwest)--Union City, Newark...</td>\n",
       "      <td>MULTIPOLYGON (((-2247215.331 305414.315, -2247...</td>\n",
       "    </tr>\n",
       "    <tr>\n",
       "      <th>4</th>\n",
       "      <td>600107</td>\n",
       "      <td>G06000107</td>\n",
       "      <td>0600107</td>\n",
       "      <td>06</td>\n",
       "      <td>California</td>\n",
       "      <td>00107</td>\n",
       "      <td>Alameda County (Central)--Hayward City PUMA</td>\n",
       "      <td>POLYGON ((-2244205.948 331582.334, -2244209.13...</td>\n",
       "    </tr>\n",
       "  </tbody>\n",
       "</table>\n",
       "</div>"
      ],
      "text/plain": [
       "   GISMATCH    GISJOIN    GEOID STATEFIP       State   PUMA  \\\n",
       "0    600105  G06000105  0600105       06  California  00105   \n",
       "1    600102  G06000102  0600102       06  California  00102   \n",
       "2    608502  G06008502  0608502       06  California  08502   \n",
       "3    600108  G06000108  0600108       06  California  00108   \n",
       "4    600107  G06000107  0600107       06  California  00107   \n",
       "\n",
       "                                                Name  \\\n",
       "0  Alameda County (West)--San Leandro, Alameda & ...   \n",
       "1  Alameda County (Northwest)--Oakland (Northwest...   \n",
       "2  Santa Clara County (Northwest)--Sunnyvale & Sa...   \n",
       "3  Alameda County (Southwest)--Union City, Newark...   \n",
       "4        Alameda County (Central)--Hayward City PUMA   \n",
       "\n",
       "                                            geometry  \n",
       "0  MULTIPOLYGON (((-2258646.530 342733.341, -2258...  \n",
       "1  POLYGON ((-2259099.372 353383.127, -2259101.40...  \n",
       "2  POLYGON ((-2246220.131 304622.390, -2246216.04...  \n",
       "3  MULTIPOLYGON (((-2247215.331 305414.315, -2247...  \n",
       "4  POLYGON ((-2244205.948 331582.334, -2244209.13...  "
      ]
     },
     "execution_count": 6,
     "metadata": {},
     "output_type": "execute_result"
    }
   ],
   "source": [
    "puma_2010_path = Path(\"../data/raw/ipums_puma_2010/ipums_puma_2010.shp\")\n",
    "\n",
    "us_puma = gpd.read_file(\n",
    "    puma_2010_path,\n",
    "    encoding=\"utf-8\",\n",
    ")\n",
    "\n",
    "us_puma.head()"
   ]
  },
  {
   "cell_type": "code",
   "execution_count": 7,
   "metadata": {},
   "outputs": [
    {
     "data": {
      "text/html": [
       "<div>\n",
       "<style scoped>\n",
       "    .dataframe tbody tr th:only-of-type {\n",
       "        vertical-align: middle;\n",
       "    }\n",
       "\n",
       "    .dataframe tbody tr th {\n",
       "        vertical-align: top;\n",
       "    }\n",
       "\n",
       "    .dataframe thead th {\n",
       "        text-align: right;\n",
       "    }\n",
       "</style>\n",
       "<table border=\"1\" class=\"dataframe\">\n",
       "  <thead>\n",
       "    <tr style=\"text-align: right;\">\n",
       "      <th></th>\n",
       "      <th>GISMATCH</th>\n",
       "      <th>GISJOIN</th>\n",
       "      <th>GEOID</th>\n",
       "      <th>STATEFIP</th>\n",
       "      <th>State</th>\n",
       "      <th>PUMA</th>\n",
       "      <th>Name</th>\n",
       "      <th>geometry</th>\n",
       "    </tr>\n",
       "  </thead>\n",
       "  <tbody>\n",
       "    <tr>\n",
       "      <th>1525</th>\n",
       "      <td>2401500</td>\n",
       "      <td>G24001500</td>\n",
       "      <td>2401500</td>\n",
       "      <td>24</td>\n",
       "      <td>Maryland</td>\n",
       "      <td>01500</td>\n",
       "      <td>St. Mary's &amp; Calvert Counties PUMA</td>\n",
       "      <td>MULTIPOLYGON (((1681546.761 244308.881, 168156...</td>\n",
       "    </tr>\n",
       "    <tr>\n",
       "      <th>1526</th>\n",
       "      <td>2401204</td>\n",
       "      <td>G24001204</td>\n",
       "      <td>2401204</td>\n",
       "      <td>24</td>\n",
       "      <td>Maryland</td>\n",
       "      <td>01204</td>\n",
       "      <td>Anne Arundel County (Southeast)--Annapolis Cit...</td>\n",
       "      <td>MULTIPOLYGON (((1661207.066 326186.822, 166120...</td>\n",
       "    </tr>\n",
       "    <tr>\n",
       "      <th>1527</th>\n",
       "      <td>2401202</td>\n",
       "      <td>G24001202</td>\n",
       "      <td>2401202</td>\n",
       "      <td>24</td>\n",
       "      <td>Maryland</td>\n",
       "      <td>01202</td>\n",
       "      <td>Anne Arundel County (North)--Glen Burnie, Pasa...</td>\n",
       "      <td>POLYGON ((1649085.241 361012.153, 1649084.005 ...</td>\n",
       "    </tr>\n",
       "    <tr>\n",
       "      <th>1528</th>\n",
       "      <td>2401203</td>\n",
       "      <td>G24001203</td>\n",
       "      <td>2401203</td>\n",
       "      <td>24</td>\n",
       "      <td>Maryland</td>\n",
       "      <td>01203</td>\n",
       "      <td>Anne Arundel County (Central)--Severna Park, A...</td>\n",
       "      <td>MULTIPOLYGON (((1662925.471 348365.797, 166289...</td>\n",
       "    </tr>\n",
       "    <tr>\n",
       "      <th>1529</th>\n",
       "      <td>2401201</td>\n",
       "      <td>G24001201</td>\n",
       "      <td>2401201</td>\n",
       "      <td>24</td>\n",
       "      <td>Maryland</td>\n",
       "      <td>01201</td>\n",
       "      <td>Anne Arundel County (Northwest)--Severn, Odent...</td>\n",
       "      <td>POLYGON ((1647085.396 352737.425, 1647086.276 ...</td>\n",
       "    </tr>\n",
       "  </tbody>\n",
       "</table>\n",
       "</div>"
      ],
      "text/plain": [
       "      GISMATCH    GISJOIN    GEOID STATEFIP     State   PUMA  \\\n",
       "1525   2401500  G24001500  2401500       24  Maryland  01500   \n",
       "1526   2401204  G24001204  2401204       24  Maryland  01204   \n",
       "1527   2401202  G24001202  2401202       24  Maryland  01202   \n",
       "1528   2401203  G24001203  2401203       24  Maryland  01203   \n",
       "1529   2401201  G24001201  2401201       24  Maryland  01201   \n",
       "\n",
       "                                                   Name  \\\n",
       "1525                 St. Mary's & Calvert Counties PUMA   \n",
       "1526  Anne Arundel County (Southeast)--Annapolis Cit...   \n",
       "1527  Anne Arundel County (North)--Glen Burnie, Pasa...   \n",
       "1528  Anne Arundel County (Central)--Severna Park, A...   \n",
       "1529  Anne Arundel County (Northwest)--Severn, Odent...   \n",
       "\n",
       "                                               geometry  \n",
       "1525  MULTIPOLYGON (((1681546.761 244308.881, 168156...  \n",
       "1526  MULTIPOLYGON (((1661207.066 326186.822, 166120...  \n",
       "1527  POLYGON ((1649085.241 361012.153, 1649084.005 ...  \n",
       "1528  MULTIPOLYGON (((1662925.471 348365.797, 166289...  \n",
       "1529  POLYGON ((1647085.396 352737.425, 1647086.276 ...  "
      ]
     },
     "execution_count": 7,
     "metadata": {},
     "output_type": "execute_result"
    }
   ],
   "source": [
    "\n",
    "md_puma = us_puma.drop(us_puma[us_puma['STATEFIP'] != '24'].index)\n",
    "\n",
    "md_puma.head()"
   ]
  },
  {
   "cell_type": "code",
   "execution_count": 12,
   "metadata": {},
   "outputs": [
    {
     "data": {
      "text/plain": [
       "<AxesSubplot:>"
      ]
     },
     "execution_count": 12,
     "metadata": {},
     "output_type": "execute_result"
    },
    {
     "data": {
      "image/png": "[encoded data removed]",
      "text/plain": [
       "<Figure size 432x288 with 1 Axes>"
      ]
     },
     "metadata": {
      "needs_background": "light"
     },
     "output_type": "display_data"
    }
   ],
   "source": [
    "md_puma.plot()"
   ]
  },
  {
   "cell_type": "code",
   "execution_count": 13,
   "metadata": {},
   "outputs": [
    {
     "data": {
      "text/plain": [
       "<AxesSubplot:>"
      ]
     },
     "execution_count": 13,
     "metadata": {},
     "output_type": "execute_result"
    },
    {
     "data": {
      "image/png": "[encoded data removed]",
      "text/plain": [
       "<Figure size 432x288 with 1 Axes>"
      ]
     },
     "metadata": {
      "needs_background": "light"
     },
     "output_type": "display_data"
    }
   ],
   "source": [
    "# Ensure that the coordinate reference system is the same\n",
    "block = block.to_crs(md_puma.crs)\n",
    "block.plot()"
   ]
  },
  {
   "cell_type": "code",
   "execution_count": null,
   "metadata": {},
   "outputs": [],
   "source": []
  },
  {
   "cell_type": "code",
   "execution_count": 10,
   "metadata": {},
   "outputs": [
    {
     "data": {
      "text/html": [
       "<div>\n",
       "<style scoped>\n",
       "    .dataframe tbody tr th:only-of-type {\n",
       "        vertical-align: middle;\n",
       "    }\n",
       "\n",
       "    .dataframe tbody tr th {\n",
       "        vertical-align: top;\n",
       "    }\n",
       "\n",
       "    .dataframe thead th {\n",
       "        text-align: right;\n",
       "    }\n",
       "</style>\n",
       "<table border=\"1\" class=\"dataframe\">\n",
       "  <thead>\n",
       "    <tr style=\"text-align: right;\">\n",
       "      <th></th>\n",
       "      <th>GISMATCH</th>\n",
       "      <th>GISJOIN</th>\n",
       "      <th>GEOID</th>\n",
       "      <th>STATEFIP</th>\n",
       "      <th>State</th>\n",
       "      <th>PUMA</th>\n",
       "      <th>Name</th>\n",
       "      <th>geometry</th>\n",
       "    </tr>\n",
       "  </thead>\n",
       "  <tbody>\n",
       "    <tr>\n",
       "      <th>1525</th>\n",
       "      <td>2401500</td>\n",
       "      <td>G24001500</td>\n",
       "      <td>2401500</td>\n",
       "      <td>24</td>\n",
       "      <td>Maryland</td>\n",
       "      <td>01500</td>\n",
       "      <td>St. Mary's &amp; Calvert Counties PUMA</td>\n",
       "      <td>POINT (1667281.125 271370.319)</td>\n",
       "    </tr>\n",
       "    <tr>\n",
       "      <th>1526</th>\n",
       "      <td>2401204</td>\n",
       "      <td>G24001204</td>\n",
       "      <td>2401204</td>\n",
       "      <td>24</td>\n",
       "      <td>Maryland</td>\n",
       "      <td>01204</td>\n",
       "      <td>Anne Arundel County (Southeast)--Annapolis Cit...</td>\n",
       "      <td>POINT (1655905.781 325227.654)</td>\n",
       "    </tr>\n",
       "    <tr>\n",
       "      <th>1527</th>\n",
       "      <td>2401202</td>\n",
       "      <td>G24001202</td>\n",
       "      <td>2401202</td>\n",
       "      <td>24</td>\n",
       "      <td>Maryland</td>\n",
       "      <td>01202</td>\n",
       "      <td>Anne Arundel County (North)--Glen Burnie, Pasa...</td>\n",
       "      <td>POINT (1649735.608 357049.408)</td>\n",
       "    </tr>\n",
       "    <tr>\n",
       "      <th>1528</th>\n",
       "      <td>2401203</td>\n",
       "      <td>G24001203</td>\n",
       "      <td>2401203</td>\n",
       "      <td>24</td>\n",
       "      <td>Maryland</td>\n",
       "      <td>01203</td>\n",
       "      <td>Anne Arundel County (Central)--Severna Park, A...</td>\n",
       "      <td>POINT (1658913.175 347812.005)</td>\n",
       "    </tr>\n",
       "    <tr>\n",
       "      <th>1529</th>\n",
       "      <td>2401201</td>\n",
       "      <td>G24001201</td>\n",
       "      <td>2401201</td>\n",
       "      <td>24</td>\n",
       "      <td>Maryland</td>\n",
       "      <td>01201</td>\n",
       "      <td>Anne Arundel County (Northwest)--Severn, Odent...</td>\n",
       "      <td>POINT (1641881.096 345849.220)</td>\n",
       "    </tr>\n",
       "  </tbody>\n",
       "</table>\n",
       "</div>"
      ],
      "text/plain": [
       "      GISMATCH    GISJOIN    GEOID STATEFIP     State   PUMA  \\\n",
       "1525   2401500  G24001500  2401500       24  Maryland  01500   \n",
       "1526   2401204  G24001204  2401204       24  Maryland  01204   \n",
       "1527   2401202  G24001202  2401202       24  Maryland  01202   \n",
       "1528   2401203  G24001203  2401203       24  Maryland  01203   \n",
       "1529   2401201  G24001201  2401201       24  Maryland  01201   \n",
       "\n",
       "                                                   Name  \\\n",
       "1525                 St. Mary's & Calvert Counties PUMA   \n",
       "1526  Anne Arundel County (Southeast)--Annapolis Cit...   \n",
       "1527  Anne Arundel County (North)--Glen Burnie, Pasa...   \n",
       "1528  Anne Arundel County (Central)--Severna Park, A...   \n",
       "1529  Anne Arundel County (Northwest)--Severn, Odent...   \n",
       "\n",
       "                            geometry  \n",
       "1525  POINT (1667281.125 271370.319)  \n",
       "1526  POINT (1655905.781 325227.654)  \n",
       "1527  POINT (1649735.608 357049.408)  \n",
       "1528  POINT (1658913.175 347812.005)  \n",
       "1529  POINT (1641881.096 345849.220)  "
      ]
     },
     "execution_count": 10,
     "metadata": {},
     "output_type": "execute_result"
    }
   ],
   "source": [
    "# Find centroid coordinates\n",
    "md_puma_pt = md_puma.copy()\n",
    "# Convert from MultiPolygon and Polygon to Point\n",
    "md_puma_pt.geometry = md_puma_pt.centroid\n",
    "md_puma_pt.head()"
   ]
  },
  {
   "cell_type": "code",
   "execution_count": 11,
   "metadata": {},
   "outputs": [
    {
     "data": {
      "text/plain": [
       "<AxesSubplot:>"
      ]
     },
     "execution_count": 11,
     "metadata": {},
     "output_type": "execute_result"
    },
    {
     "data": {
      "image/png": "[encoded data removed]",
      "text/plain": [
       "<Figure size 432x288 with 1 Axes>"
      ]
     },
     "metadata": {
      "needs_background": "light"
     },
     "output_type": "display_data"
    }
   ],
   "source": [
    "md_puma_pt.plot()"
   ]
  }
 ],
 "metadata": {
  "interpreter": {
   "hash": "e013b12601e1807e0794238259594be3b2bdaf37e2a8d329ec063f58f97716a6"
  },
  "kernelspec": {
   "display_name": "Python 3.7.11 ('maryland-child-allowance')",
   "language": "python",
   "name": "python3"
  },
  "language_info": {
   "codemirror_mode": {
    "name": "ipython",
    "version": 3
   },
   "file_extension": ".py",
   "mimetype": "text/x-python",
   "name": "python",
   "nbconvert_exporter": "python",
   "pygments_lexer": "ipython3",
   "version": "3.7.11"
  },
  "orig_nbformat": 4
 },
 "nbformat": 4,
 "nbformat_minor": 2
}
