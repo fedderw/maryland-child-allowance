{
 "cells": [
  {
   "cell_type": "code",
   "execution_count": 4,
   "metadata": {},
   "outputs": [],
   "source": [
    "import pandas as pd\n",
    "import numpy as np\n",
    "import microdf as mdf\n",
    "import plotly.express as px\n",
    "from pathlib import Path\n",
    "import os\n",
    "import sys\n"
   ]
  },
  {
   "cell_type": "code",
   "execution_count": 19,
   "metadata": {},
   "outputs": [],
   "source": [
    "from notebook_helpers import rel_location"
   ]
  },
  {
   "cell_type": "code",
   "execution_count": 14,
   "metadata": {},
   "outputs": [],
   "source": [
    "# We need to import the clean_data module from src/data/clean_data.py\n",
    "# We can use sys.path to find the src directory\n",
    "# We can use os.getcwd() to get the current working directory\n",
    "# We can use os.path.join to join the current working directory with src\n",
    "cwd = os.getcwd()\n",
    "idk = sys.path.append(os.path.join(os.getcwd(), \"src\"))"
   ]
  },
  {
   "cell_type": "code",
   "execution_count": 16,
   "metadata": {},
   "outputs": [
    {
     "name": "stdout",
     "output_type": "stream",
     "text": [
      "/home/fedderw/repos/maryland-child-allowance/notebooks\n"
     ]
    }
   ],
   "source": [
    "print(cwd)"
   ]
  }
 ],
 "metadata": {
  "interpreter": {
   "hash": "e013b12601e1807e0794238259594be3b2bdaf37e2a8d329ec063f58f97716a6"
  },
  "kernelspec": {
   "display_name": "Python 3.7.11 ('maryland-child-allowance')",
   "language": "python",
   "name": "python3"
  },
  "language_info": {
   "codemirror_mode": {
    "name": "ipython",
    "version": 3
   },
   "file_extension": ".py",
   "mimetype": "text/x-python",
   "name": "python",
   "nbconvert_exporter": "python",
   "pygments_lexer": "ipython3",
   "version": "3.7.11"
  },
  "orig_nbformat": 4
 },
 "nbformat": 4,
 "nbformat_minor": 2
}
